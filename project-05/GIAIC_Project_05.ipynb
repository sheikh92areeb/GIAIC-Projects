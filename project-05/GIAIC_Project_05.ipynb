{
  "cells": [
    {
      "cell_type": "markdown",
      "metadata": {
        "id": "V7FaCWgBQxQ0"
      },
      "source": [
        "# **Hangman Guess The Word Game**"
      ]
    },
    {
      "cell_type": "code",
      "execution_count": null,
      "metadata": {
        "id": "UMdIE4Tjx_f6"
      },
      "outputs": [],
      "source": [
        "import random\n",
        "\n",
        "def hangman():\n",
        "    print(\"Welcome to Hangman!\")\n",
        "    print(\"Guess the word, one letter at a time.\")\n",
        "\n",
        "    # List of words to choose from\n",
        "    words = ['python', 'hangman', 'developer', 'programming', 'debugging', 'tutorial']\n",
        "    word = random.choice(words).lower()  # Select a random word\n",
        "\n",
        "    # Initialize game variables\n",
        "    guessed_word = ['_'] * len(word)  # Display the word as underscores\n",
        "    attempts = 6  # Number of incorrect guesses allowed\n",
        "    guessed_letters = []  # Keep track of letters already guessed\n",
        "\n",
        "    while attempts > 0:\n",
        "        print(\"\\nWord: \" + \" \".join(guessed_word))\n",
        "        print(f\"Remaining attempts: {attempts}\")\n",
        "        print(f\"Guessed letters: {', '.join(guessed_letters)}\")\n",
        "\n",
        "        # Get user input\n",
        "        guess = input(\"Guess a letter: \").lower()\n",
        "\n",
        "        # Validate input\n",
        "        if len(guess) != 1 or not guess.isalpha():\n",
        "            print(\"Invalid input. Please enter a single letter.\")\n",
        "            continue\n",
        "\n",
        "        if guess in guessed_letters:\n",
        "            print(f\"You've already guessed '{guess}'. Try another letter.\")\n",
        "            continue\n",
        "\n",
        "        guessed_letters.append(guess)\n",
        "\n",
        "        # Check if guess is correct\n",
        "        if guess in word:\n",
        "            print(f\"Good job! '{guess}' is in the word.\")\n",
        "            # Update the guessed word\n",
        "            for index, letter in enumerate(word):\n",
        "                if letter == guess:\n",
        "                    guessed_word[index] = guess\n",
        "        else:\n",
        "            print(f\"'{guess}' is not in the word. You lose an attempt.\")\n",
        "            attempts -= 1\n",
        "\n",
        "        # Check win condition\n",
        "        if '_' not in guessed_word:\n",
        "            print(\"\\nCongratulations! You've guessed the word!\")\n",
        "            print(f\"The word was: {word}\")\n",
        "            break\n",
        "    else:\n",
        "        # Player loses\n",
        "        print(\"\\nGame Over! You've run out of attempts.\")\n",
        "        print(f\"The word was: {word}\")\n",
        "\n",
        "    print(\"Thanks for playing!\")\n",
        "\n",
        "# Run the game\n",
        "hangman()\n"
      ]
    },
    {
      "cell_type": "code",
      "execution_count": null,
      "metadata": {},
      "outputs": [],
      "source": []
    }
  ],
  "metadata": {
    "colab": {
      "provenance": []
    },
    "kernelspec": {
      "display_name": "Python 3",
      "name": "python3"
    },
    "language_info": {
      "name": "python",
      "version": "3.13.1"
    }
  },
  "nbformat": 4,
  "nbformat_minor": 0
}
