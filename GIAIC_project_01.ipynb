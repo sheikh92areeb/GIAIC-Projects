{
  "nbformat": 4,
  "nbformat_minor": 0,
  "metadata": {
    "colab": {
      "provenance": [],
      "authorship_tag": "ABX9TyOP9VmKCLKjWbFoXtE2A3eJ",
      "include_colab_link": true
    },
    "kernelspec": {
      "name": "python3",
      "display_name": "Python 3"
    },
    "language_info": {
      "name": "python"
    }
  },
  "cells": [
    {
      "cell_type": "markdown",
      "metadata": {
        "id": "view-in-github",
        "colab_type": "text"
      },
      "source": [
        "<a href=\"https://colab.research.google.com/github/sheikh92areeb/GIAIC-Projects/blob/main/GIAIC_project_01.ipynb\" target=\"_parent\"><img src=\"https://colab.research.google.com/assets/colab-badge.svg\" alt=\"Open In Colab\"/></a>"
      ]
    },
    {
      "cell_type": "markdown",
      "source": [],
      "metadata": {
        "id": "5ov_CVnVvahC"
      }
    },
    {
      "cell_type": "code",
      "execution_count": 9,
      "metadata": {
        "colab": {
          "base_uri": "https://localhost:8080/"
        },
        "id": "x2GvjraRqUB3",
        "outputId": "1314d994-ac37-47bc-bab8-524b6b2df0b9"
      },
      "outputs": [
        {
          "output_type": "stream",
          "name": "stdout",
          "text": [
            "Welcome to the Mad Libs game!\n",
            "Fill in the blanks to create your story.\n",
            "\n",
            "Enter a name: Areeb\n",
            "Enter a place: Lahore\n",
            "Enter an adjective: Bad\n",
            "Enter a noun: Light\n",
            "Enter a verb: Wait\n",
            "Enter an animal: Dog\n",
            "\n",
            "Your Mad Libs story:\n",
            "\n",
            "Once upon a time, Areeb went to Lahore. It was a Bad day, and they decided to bring a Light with them. While they were there, they saw a Dog Waiting in the distance. Surprised, Areeb exclaimed, 'What a day to remember!'\n"
          ]
        }
      ],
      "source": [
        "def mad_libs():\n",
        "    # Welcome message\n",
        "    print(\"Welcome to the Mad Libs game!\")\n",
        "    print(\"Fill in the blanks to create your story.\\n\")\n",
        "\n",
        "    # Asking for user inputs\n",
        "    name = input(\"Enter a name: \")\n",
        "    place = input(\"Enter a place: \")\n",
        "    adjective = input(\"Enter an adjective: \")\n",
        "    noun = input(\"Enter a noun: \")\n",
        "    verb = input(\"Enter a verb: \")\n",
        "    animal = input(\"Enter an animal: \")\n",
        "\n",
        "    # Story template\n",
        "    story = (\n",
        "        f\"Once upon a time, {name} went to {place}. \"\n",
        "        f\"It was a {adjective} day, and they decided to bring a {noun} with them. \"\n",
        "        f\"While they were there, they saw a {animal} {verb}ing in the distance. \"\n",
        "        f\"Surprised, {name} exclaimed, 'What a day to remember!'\"\n",
        "    )\n",
        "\n",
        "    # Display the completed story\n",
        "    print(\"\\nYour Mad Libs story:\\n\")\n",
        "    print(story)\n",
        "\n",
        "# Run the Mad Libs function\n",
        "mad_libs()\n"
      ]
    },
    {
      "cell_type": "code",
      "source": [
        "import random\n",
        "\n",
        "def mad_libs():\n",
        "    stories = [\n",
        "        \"Today, I went to the {place} and saw a {adjective} {noun} {verb}ing. It was so funny!\",\n",
        "        \"Once upon a time, {name} found a {adjective} {noun} while walking through {place}.\",\n",
        "        \"{name} decided to {verb} with a {adjective} {animal} at the {place}. What a day!\"\n",
        "    ]\n",
        "\n",
        "    # Randomly select a story template\n",
        "    story_template = random.choice(stories)\n",
        "\n",
        "    # Collect inputs\n",
        "    name = input(\"Enter a name: \")\n",
        "    place = input(\"Enter a place: \")\n",
        "    adjective = input(\"Enter an adjective: \")\n",
        "    noun = input(\"Enter a noun: \")\n",
        "    verb = input(\"Enter a verb: \")\n",
        "    animal = input(\"Enter an animal: \")\n",
        "\n",
        "    # Fill in the story template\n",
        "    story = story_template.format(\n",
        "        name=name, place=place, adjective=adjective,\n",
        "        noun=noun, verb=verb, animal=animal\n",
        "    )\n",
        "\n",
        "    print(\"\\nYour Mad Libs story:\\n\")\n",
        "    print(story)\n",
        "\n",
        "# Run the game\n",
        "mad_libs()\n"
      ],
      "metadata": {
        "colab": {
          "base_uri": "https://localhost:8080/"
        },
        "id": "j3gZvVyUrqiB",
        "outputId": "37b6f54a-fd14-418a-f7a3-c73bd0be42a0"
      },
      "execution_count": 12,
      "outputs": [
        {
          "output_type": "stream",
          "name": "stdout",
          "text": [
            "Enter a name: Gaint\n",
            "Enter a place: Lake\n",
            "Enter an adjective: Nice\n",
            "Enter a noun: Boat\n",
            "Enter a verb: Float\n",
            "Enter an animal: Eagle\n",
            "\n",
            "Your Mad Libs story:\n",
            "\n",
            "Today, I went to the Lake and saw a Nice Boat Floating. It was so funny!\n"
          ]
        }
      ]
    },
    {
      "cell_type": "code",
      "source": [],
      "metadata": {
        "id": "Wuv9gk3Iuj-u"
      },
      "execution_count": null,
      "outputs": []
    }
  ]
}