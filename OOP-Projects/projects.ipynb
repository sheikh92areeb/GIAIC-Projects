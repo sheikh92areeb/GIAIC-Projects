{
 "cells": [
  {
   "cell_type": "markdown",
   "id": "6ecbd5ab",
   "metadata": {},
   "source": [
    "#### 1. Using self\n",
    "**Assignment:**\n",
    "\n",
    "Create a class Student with attributes name and marks. Use the self keyword to initialize these values via a constructor. Add a method display() that prints student details."
   ]
  },
  {
   "cell_type": "code",
   "execution_count": 1,
   "id": "b03bd9b3",
   "metadata": {},
   "outputs": [
    {
     "name": "stdout",
     "output_type": "stream",
     "text": [
      "Student name is Ahmad, and he has 80 marks.\n",
      "Student name is Kamran, and he has 75 marks.\n"
     ]
    }
   ],
   "source": [
    "class Student:\n",
    "    def __init__(self, name: str, marks: int):\n",
    "        self.name: str = name\n",
    "        self.marks: int = marks\n",
    "\n",
    "    def display(self):\n",
    "        print(f\"Student name is {self.name}, and he has {self.marks} marks.\")\n",
    "\n",
    "\n",
    "student1 = Student(\"Ahmad\", 80)\n",
    "student2 = Student(\"Kamran\", 75)\n",
    "\n",
    "student1.display()\n",
    "student2.display()"
   ]
  },
  {
   "cell_type": "markdown",
   "id": "222ccbce",
   "metadata": {},
   "source": [
    "#### 2. Using cls\n",
    "**Assignment:**\n",
    "\n",
    "Create a class Counter that keeps track of how many objects have been created. Use a class variable and a class method with cls to manage and display the count."
   ]
  },
  {
   "cell_type": "code",
   "execution_count": 2,
   "id": "d7290227",
   "metadata": {},
   "outputs": [
    {
     "name": "stdout",
     "output_type": "stream",
     "text": [
      "Object:1\n",
      "Object:2\n",
      "Total number of objects created: 2\n"
     ]
    }
   ],
   "source": [
    "class Counter:\n",
    "    count = 0\n",
    "\n",
    "    def __init__(self):\n",
    "        Counter.count += 1\n",
    "        self.name = f\"Object:{Counter.count}\"\n",
    "\n",
    "    @classmethod\n",
    "    def display_count(cls):\n",
    "        print(f\"Total number of objects created: {cls.count}\")\n",
    "\n",
    "\n",
    "obj1 = Counter()\n",
    "obj2 = Counter()\n",
    "\n",
    "print(obj1.name)\n",
    "print(obj2.name)\n",
    "\n",
    "Counter.display_count()"
   ]
  },
  {
   "cell_type": "markdown",
   "id": "6103634e",
   "metadata": {},
   "source": [
    "#### 3. Public Variables and Methods\n",
    "**Assignment:**\n",
    "\n",
    "Create a class Car with a public variable brand and a public method start(). Instantiate the class and access both from outside the class."
   ]
  },
  {
   "cell_type": "code",
   "execution_count": 3,
   "id": "88c9c8b0",
   "metadata": {},
   "outputs": [
    {
     "name": "stdout",
     "output_type": "stream",
     "text": [
      "Toyota is starting.\n",
      "Honda is starting.\n"
     ]
    }
   ],
   "source": [
    "class Car:\n",
    "    def __init__(self, brand:str):\n",
    "        self.brand:str = brand\n",
    "\n",
    "    def start(self):\n",
    "        print(f\"{self.brand} is starting.\")\n",
    "\n",
    "car1 = Car(\"Toyota\")\n",
    "car2 = Car(\"Honda\")\n",
    "\n",
    "car1.start()\n",
    "car2.start()"
   ]
  },
  {
   "cell_type": "markdown",
   "id": "a94207c9",
   "metadata": {},
   "source": [
    "#### 4. Class Variables and Class Methods\n",
    "**Assignment:**\n",
    "\n",
    "Create a class Bank with a class variable bank_name. Add a class method change_bank_name(cls, name) that allows changing the bank name. Show that it affects all instances."
   ]
  },
  {
   "cell_type": "code",
   "execution_count": 5,
   "id": "e7145f38",
   "metadata": {},
   "outputs": [
    {
     "name": "stdout",
     "output_type": "stream",
     "text": [
      "Account holder: Ali, Bank name: ABC Bank\n",
      "Account holder: Fatima, Bank name: ABC Bank\n",
      "Account holder: Ali, Bank name: XYZ Bank\n",
      "Account holder: Fatima, Bank name: XYZ Bank\n"
     ]
    }
   ],
   "source": [
    "class Bank:\n",
    "    bank_name: str = \"ABC Bank\"\n",
    "\n",
    "    def __init__(self, account_holder: str):\n",
    "        self.account_holder: str = account_holder\n",
    "\n",
    "    @classmethod\n",
    "    def change_bank_name(cls, name: str):\n",
    "        cls.bank_name = name\n",
    "\n",
    "    def show_account_info(self):\n",
    "        print(f\"Account holder: {self.account_holder}, Bank name: {self.bank_name}\")            \n",
    "\n",
    "account1 = Bank(\"Ali\")\n",
    "account2 = Bank(\"Fatima\")\n",
    "account1.show_account_info()\n",
    "account2.show_account_info()\n",
    "\n",
    "Bank.change_bank_name(\"XYZ Bank\")\n",
    "account1.show_account_info()\n",
    "account2.show_account_info()"
   ]
  }
 ],
 "metadata": {
  "kernelspec": {
   "display_name": "Python 3",
   "language": "python",
   "name": "python3"
  },
  "language_info": {
   "codemirror_mode": {
    "name": "ipython",
    "version": 3
   },
   "file_extension": ".py",
   "mimetype": "text/x-python",
   "name": "python",
   "nbconvert_exporter": "python",
   "pygments_lexer": "ipython3",
   "version": "3.13.1"
  }
 },
 "nbformat": 4,
 "nbformat_minor": 5
}
