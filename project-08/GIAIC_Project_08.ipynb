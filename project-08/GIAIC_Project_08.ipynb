{
  "nbformat": 4,
  "nbformat_minor": 0,
  "metadata": {
    "colab": {
      "provenance": []
    },
    "kernelspec": {
      "name": "python3",
      "display_name": "Python 3"
    },
    "language_info": {
      "name": "python"
    }
  },
  "cells": [
    {
      "cell_type": "markdown",
      "source": [
        "# **BMI Calculator Web App (Python with Streamlit)**"
      ],
      "metadata": {
        "id": "ZUFA4qO5eHlV"
      }
    },
    {
      "cell_type": "code",
      "execution_count": null,
      "metadata": {
        "id": "P85-cl7q4ApF"
      },
      "outputs": [],
      "source": [
        "import streamlit as st\n",
        "\n",
        "# Set the title of the web app\n",
        "st.title(\"BMI Calculator\")\n",
        "\n",
        "# Add a subtitle or description\n",
        "st.write(\"Calculate your Body Mass Index (BMI) to understand your health status.\")\n",
        "\n",
        "# Input fields for height and weight\n",
        "weight = st.number_input(\"Enter your weight (in kg):\", min_value=0.0, step=0.1, format=\"%.2f\")\n",
        "height = st.number_input(\"Enter your height (in cm):\", min_value=0.0, step=0.1, format=\"%.2f\")\n",
        "\n",
        "# Calculate BMI when both inputs are valid\n",
        "if weight > 0 and height > 0:\n",
        "    height_in_meters = height / 100  # Convert height to meters\n",
        "    bmi = weight / (height_in_meters ** 2)\n",
        "\n",
        "    # Display the BMI result\n",
        "    st.write(f\"Your BMI is: **{bmi:.2f}**\")\n",
        "\n",
        "    # Interpret the BMI value\n",
        "    if bmi < 18.5:\n",
        "        st.warning(\"You are underweight.\")\n",
        "    elif 18.5 <= bmi < 24.9:\n",
        "        st.success(\"You have a normal weight.\")\n",
        "    elif 25 <= bmi < 29.9:\n",
        "        st.warning(\"You are overweight.\")\n",
        "    else:\n",
        "        st.error(\"You are in the obesity category.\")\n",
        "else:\n",
        "    st.info(\"Please enter both weight and height to calculate your BMI.\")\n"
      ]
    }
  ]
}