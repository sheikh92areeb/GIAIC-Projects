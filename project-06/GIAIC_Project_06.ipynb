{
  "cells": [
    {
      "cell_type": "markdown",
      "metadata": {
        "id": "lS4-qQosSNKi"
      },
      "source": [
        "# **Countdown Timer (Basic Version)**"
      ]
    },
    {
      "cell_type": "code",
      "execution_count": null,
      "metadata": {
        "id": "0HVsfree0gy7"
      },
      "outputs": [],
      "source": [
        "import time\n",
        "\n",
        "def countdown_timer(seconds):\n",
        "    print(\"Countdown Timer Started!\")\n",
        "\n",
        "    while seconds > 0:\n",
        "        # Convert seconds into hours, minutes, and seconds\n",
        "        hrs = seconds // 3600\n",
        "        mins = (seconds % 3600) // 60\n",
        "        secs = seconds % 60\n",
        "\n",
        "        # Display the time in HH:MM:SS format\n",
        "        print(f\"{hrs:02}:{mins:02}:{secs:02}\", end='\\r')  # '\\r' overwrites the line\n",
        "        time.sleep(1)  # Wait for 1 second\n",
        "        seconds -= 1\n",
        "\n",
        "    print(\"\\nTime's up! 🚨\")\n",
        "\n",
        "# Get user input\n",
        "try:\n",
        "    total_seconds = int(input(\"Enter the countdown time in seconds: \"))\n",
        "    countdown_timer(total_seconds)\n",
        "except ValueError:\n",
        "    print(\"Invalid input! Please enter an integer.\")\n"
      ]
    },
    {
      "cell_type": "markdown",
      "metadata": {
        "id": "NQVf6WJlSdNX"
      },
      "source": [
        "# **Countdown Timer (Intermediate Version)**"
      ]
    },
    {
      "cell_type": "code",
      "execution_count": null,
      "metadata": {
        "id": "Jp88yNul0mnW"
      },
      "outputs": [],
      "source": [
        "import time\n",
        "\n",
        "def countdown_timer(seconds):\n",
        "    print(\"Countdown Timer Started!\")\n",
        "\n",
        "    while seconds > 0:\n",
        "        hrs = seconds // 3600\n",
        "        mins = (seconds % 3600) // 60\n",
        "        secs = seconds % 60\n",
        "\n",
        "        print(f\"{hrs:02}:{mins:02}:{secs:02}\", end='\\r')\n",
        "        time.sleep(1)\n",
        "        seconds -= 1\n",
        "\n",
        "    print(\"\\nTime's up! 🚨\")\n",
        "\n",
        "# Accept input in HH:MM:SS format\n",
        "def get_time_input():\n",
        "    time_input = input(\"Enter the countdown time in HH:MM:SS format: \")\n",
        "    try:\n",
        "        hrs, mins, secs = map(int, time_input.split(\":\"))\n",
        "        return hrs * 3600 + mins * 60 + secs\n",
        "    except ValueError:\n",
        "        print(\"Invalid time format! Please enter time as HH:MM:SS.\")\n",
        "        return None\n",
        "\n",
        "total_seconds = None\n",
        "while total_seconds is None:\n",
        "    total_seconds = get_time_input()\n",
        "\n",
        "countdown_timer(total_seconds)\n",
        "\n"
      ]
    }
  ],
  "metadata": {
    "colab": {
      "provenance": []
    },
    "kernelspec": {
      "display_name": "Python 3",
      "name": "python3"
    },
    "language_info": {
      "codemirror_mode": {
        "name": "ipython",
        "version": 3
      },
      "file_extension": ".py",
      "mimetype": "text/x-python",
      "name": "python",
      "nbconvert_exporter": "python",
      "pygments_lexer": "ipython3",
      "version": "3.13.1"
    }
  },
  "nbformat": 4,
  "nbformat_minor": 0
}
