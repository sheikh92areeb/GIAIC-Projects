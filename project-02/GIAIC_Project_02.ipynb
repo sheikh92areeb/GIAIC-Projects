{
  "cells": [
    {
      "cell_type": "markdown",
      "metadata": {},
      "source": [
        "# **Guess The Number Game (Computer) (Basic Version)**"
      ]
    },
    {
      "cell_type": "code",
      "execution_count": null,
      "metadata": {},
      "outputs": [],
      "source": [
        "import random\n",
        "\n",
        "def guess_the_number():\n",
        "    print(\"Welcome to the Guess the Number game!\")\n",
        "    print(\"The computer has chosen a number between 1 and 100. Can you guess it?\")\n",
        "\n",
        "    # Generate a random number between 1 and 100\n",
        "    number_to_guess = random.randint(1, 100)\n",
        "    attempts = 0\n",
        "    guessed_correctly = False\n",
        "\n",
        "    # Game loop\n",
        "    while not guessed_correctly:\n",
        "        try:\n",
        "            # Get user's guess\n",
        "            guess = int(input(\"Enter your guess: \"))\n",
        "            attempts += 1\n",
        "\n",
        "            # Check the guess\n",
        "            if guess < number_to_guess:\n",
        "                print(\"Too low! Try again.\")\n",
        "            elif guess > number_to_guess:\n",
        "                print(\"Too high! Try again.\")\n",
        "            else:\n",
        "                print(f\"Congratulations! You guessed the number in {attempts} attempts.\")\n",
        "                guessed_correctly = True\n",
        "        except ValueError:\n",
        "            print(\"Please enter a valid number.\")\n",
        "\n",
        "# Run the game\n",
        "guess_the_number()\n"
      ]
    },
    {
      "cell_type": "markdown",
      "metadata": {},
      "source": [
        "# **Guess The Number Game (Computer) (Intermediat Version)**"
      ]
    },
    {
      "cell_type": "code",
      "execution_count": null,
      "metadata": {
        "id": "GfyDY_9M4Hd1"
      },
      "outputs": [],
      "source": [
        "import random\n",
        "\n",
        "def guess_the_number():\n",
        "    print(\"Welcome to the Guess the Number game!\")\n",
        "\n",
        "    while True:\n",
        "        # Ask for difficulty level\n",
        "        print(\"\\nChoose a difficulty level:\")\n",
        "        print(\"1. Easy (1 to 50)\")\n",
        "        print(\"2. Medium (1 to 100)\")\n",
        "        print(\"3. Hard (1 to 200)\")\n",
        "\n",
        "        try:\n",
        "            choice = int(input(\"Enter your choice (1/2/3): \"))\n",
        "            if choice == 1:\n",
        "                max_number = 50\n",
        "            elif choice == 2:\n",
        "                max_number = 100\n",
        "            elif choice == 3:\n",
        "                max_number = 200\n",
        "            else:\n",
        "                print(\"Invalid choice. Defaulting to Medium difficulty.\")\n",
        "                max_number = 100\n",
        "        except ValueError:\n",
        "            print(\"Invalid input. Defaulting to Medium difficulty.\")\n",
        "            max_number = 100\n",
        "\n",
        "        # Generate the random number\n",
        "        number_to_guess = random.randint(1, max_number)\n",
        "        attempts = 0\n",
        "        guessed_correctly = False\n",
        "\n",
        "        print(f\"\\nThe computer has chosen a number between 1 and {max_number}. Can you guess it?\")\n",
        "\n",
        "        # Game loop\n",
        "        while not guessed_correctly:\n",
        "            try:\n",
        "                guess = int(input(\"Enter your guess: \"))\n",
        "                attempts += 1\n",
        "\n",
        "                if guess < number_to_guess:\n",
        "                    print(\"Too low! Try again.\")\n",
        "                elif guess > number_to_guess:\n",
        "                    print(\"Too high! Try again.\")\n",
        "                else:\n",
        "                    print(f\"Congratulations! You guessed the number in {attempts} attempts.\")\n",
        "                    guessed_correctly = True\n",
        "            except ValueError:\n",
        "                print(\"Please enter a valid number.\")\n",
        "\n",
        "        # Ask if the player wants to play again\n",
        "        play_again = input(\"Do you want to play again? (yes/no): \").strip().lower()\n",
        "        if play_again != 'yes':\n",
        "            print(\"Thanks for playing! Goodbye!\")\n",
        "            break\n",
        "\n",
        "# Run the game\n",
        "guess_the_number()\n"
      ]
    }
  ],
  "metadata": {
    "colab": {
      "provenance": []
    },
    "kernelspec": {
      "display_name": "Python 3",
      "name": "python3"
    },
    "language_info": {
      "name": "python"
    }
  },
  "nbformat": 4,
  "nbformat_minor": 0
}
