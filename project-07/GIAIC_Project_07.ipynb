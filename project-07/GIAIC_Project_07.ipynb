{
  "cells": [
    {
      "cell_type": "markdown",
      "metadata": {
        "id": "Hf2W3Tp6ZVkt"
      },
      "source": [
        "# **Random Password Generator (Basic Version)**"
      ]
    },
    {
      "cell_type": "code",
      "execution_count": null,
      "metadata": {
        "id": "XymBFgvm1zAX"
      },
      "outputs": [],
      "source": [
        "import random\n",
        "import string\n",
        "\n",
        "def generate_password(length):\n",
        "    \"\"\"Generates a random password of the given length.\"\"\"\n",
        "    # Define the character pool\n",
        "    characters = string.ascii_letters + string.digits + string.punctuation\n",
        "\n",
        "    # Generate the password\n",
        "    password = ''.join(random.choice(characters) for _ in range(length))\n",
        "    return password\n",
        "\n",
        "def password_generator():\n",
        "    \"\"\"Main function to generate multiple passwords.\"\"\"\n",
        "    try:\n",
        "        # Get user input\n",
        "        num_passwords = int(input(\"How many passwords would you like to generate? \"))\n",
        "        password_length = int(input(\"Enter the desired password length: \"))\n",
        "\n",
        "        # Check for valid input\n",
        "        if num_passwords < 1 or password_length < 1:\n",
        "            print(\"Please enter positive integers for both inputs.\")\n",
        "            return\n",
        "\n",
        "        print(\"\\nGenerated Passwords:\")\n",
        "        for i in range(num_passwords):\n",
        "            print(f\"{i+1}: {generate_password(password_length)}\")\n",
        "    except ValueError:\n",
        "        print(\"Invalid input! Please enter integers for the number of passwords and their length.\")\n",
        "\n",
        "# Run the password generator\n",
        "password_generator()\n"
      ]
    },
    {
      "cell_type": "markdown",
      "metadata": {
        "id": "kNNdCJ49Zk7n"
      },
      "source": [
        "# **Random Password Generator (Intermediate Version)**"
      ]
    },
    {
      "cell_type": "code",
      "execution_count": null,
      "metadata": {
        "id": "LgmWTUbq2N9T"
      },
      "outputs": [],
      "source": [
        "import random\n",
        "import string\n",
        "\n",
        "def generate_password(length, use_uppercase, use_numbers, use_symbols):\n",
        "    characters = string.ascii_lowercase\n",
        "    if use_uppercase:\n",
        "        characters += string.ascii_uppercase\n",
        "    if use_numbers:\n",
        "        characters += string.digits\n",
        "    if use_symbols:\n",
        "        characters += string.punctuation\n",
        "\n",
        "    if not characters:\n",
        "        return \"Error: No character types selected!\"\n",
        "\n",
        "    password = ''.join(random.choice(characters) for _ in range(length))\n",
        "    return password\n",
        "\n",
        "def password_generator():\n",
        "    try:\n",
        "        num_passwords = int(input(\"How many passwords would you like to generate? \"))\n",
        "        password_length = int(input(\"Enter the desired password length: \"))\n",
        "        use_uppercase = input(\"Include uppercase letters? (y/n): \").lower() == 'y'\n",
        "        use_numbers = input(\"Include numbers? (y/n): \").lower() == 'y'\n",
        "        use_symbols = input(\"Include symbols? (y/n): \").lower() == 'y'\n",
        "\n",
        "        if num_passwords < 1 or password_length < 1:\n",
        "            print(\"Please enter positive integers for both inputs.\")\n",
        "            return\n",
        "\n",
        "        print(\"\\nGenerated Passwords:\")\n",
        "        for i in range(num_passwords):\n",
        "            print(f\"{i+1}: {generate_password(password_length, use_uppercase, use_numbers, use_symbols)}\")\n",
        "    except ValueError:\n",
        "        print(\"Invalid input! Please enter integers for the number of passwords and their length.\")\n",
        "\n",
        "# Run the enhanced password generator\n",
        "password_generator()\n"
      ]
    }
  ],
  "metadata": {
    "colab": {
      "provenance": []
    },
    "kernelspec": {
      "display_name": "Python 3",
      "name": "python3"
    },
    "language_info": {
      "codemirror_mode": {
        "name": "ipython",
        "version": 3
      },
      "file_extension": ".py",
      "mimetype": "text/x-python",
      "name": "python",
      "nbconvert_exporter": "python",
      "pygments_lexer": "ipython3",
      "version": "3.13.1"
    }
  },
  "nbformat": 4,
  "nbformat_minor": 0
}
