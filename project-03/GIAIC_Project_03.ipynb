{
  "cells": [
    {
      "cell_type": "markdown",
      "metadata": {},
      "source": [
        "# **Guess The Number Game (User) (Basic Version)**"
      ]
    },
    {
      "cell_type": "code",
      "execution_count": null,
      "metadata": {
        "id": "Gdr8ruzQrq1s"
      },
      "outputs": [],
      "source": [
        "import random\n",
        "\n",
        "def computer_guess():\n",
        "    print(\"Welcome to the 'Guess the Number' game!\")\n",
        "    print(\"Think of a number between 1 and 100, and I'll try to guess it.\")\n",
        "    print(\"After each guess, tell me if my guess is too high (H), too low (L), or correct (C).\")\n",
        "\n",
        "    low = 1\n",
        "    high = 100\n",
        "    feedback = ''\n",
        "    attempts = 0\n",
        "\n",
        "    while feedback != 'C':\n",
        "        # Computer makes a guess\n",
        "        if low != high:\n",
        "            guess = random.randint(low, high)  # Random guess within the range\n",
        "        else:\n",
        "            guess = low\n",
        "\n",
        "        attempts += 1\n",
        "        print(f\"My guess is {guess}.\")\n",
        "        feedback = input(\"Is it too high (H), too low (L), or correct (C)? \").strip().upper()\n",
        "\n",
        "        # Adjust the range based on feedback\n",
        "        if feedback == 'H':\n",
        "            high = guess - 1  # Update upper bound\n",
        "        elif feedback == 'L':\n",
        "            low = guess + 1  # Update lower bound\n",
        "        elif feedback != 'C':\n",
        "            print(\"Invalid input. Please enter H, L, or C.\")\n",
        "\n",
        "    print(f\"I guessed your number {guess} correctly in {attempts} attempts! Thanks for playing!\")\n",
        "\n",
        "# Run the game\n",
        "computer_guess()\n"
      ]
    },
    {
      "cell_type": "markdown",
      "metadata": {},
      "source": [
        "# **Guess The Number Game (User) (Intermediate Version)**"
      ]
    },
    {
      "cell_type": "code",
      "execution_count": null,
      "metadata": {
        "id": "uRh6Nl2NNrfr"
      },
      "outputs": [],
      "source": [
        "import random\n",
        "\n",
        "def computer_guess():\n",
        "    print(\"Welcome to the 'Guess the Number' game!\")\n",
        "    print(\"Now set the range of number\")\n",
        "\n",
        "    low = int(input(\"Enter the lower bound: \"))\n",
        "    high = int(input(\"Enter the upper bound: \"))\n",
        "\n",
        "    print(f\"Think of a number between {low} and {high}, and I'll try to guess it.\")\n",
        "    print(\"After each guess, tell me if my guess is too high (H), too low (L), or correct (C).\")\n",
        "\n",
        "    feedback = ''\n",
        "    attempts = 0\n",
        "\n",
        "    while feedback != 'C':\n",
        "        # Computer makes a guess\n",
        "        if low != high:\n",
        "            guess = random.randint(low, high)  # Random guess within the range\n",
        "        else:\n",
        "            guess = low\n",
        "\n",
        "        attempts += 1\n",
        "        print(f\"My guess is {guess}.\")\n",
        "        feedback = input(\"Is it too high (H), too low (L), or correct (C)? \").strip().upper()\n",
        "\n",
        "        # Adjust the range based on feedback\n",
        "        if feedback == 'H':\n",
        "            high = guess - 1  # Update upper bound\n",
        "        elif feedback == 'L':\n",
        "            low = guess + 1  # Update lower bound\n",
        "        elif feedback != 'C':\n",
        "            print(\"Invalid input. Please enter H, L, or C.\")\n",
        "\n",
        "    print(f\"I guessed your number {guess} correctly in {attempts} attempts! Thanks for playing!\")\n",
        "\n",
        "# Run the game\n",
        "computer_guess()\n"
      ]
    }
  ],
  "metadata": {
    "colab": {
      "provenance": []
    },
    "kernelspec": {
      "display_name": "Python 3",
      "name": "python3"
    },
    "language_info": {
      "name": "python"
    }
  },
  "nbformat": 4,
  "nbformat_minor": 0
}
