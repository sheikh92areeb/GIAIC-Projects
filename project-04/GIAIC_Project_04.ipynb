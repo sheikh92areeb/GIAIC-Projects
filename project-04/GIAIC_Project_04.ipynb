{
  "cells": [
    {
      "cell_type": "markdown",
      "metadata": {
        "id": "02SR9pB_GNm9"
      },
      "source": [
        "# **Rock, Paper, Scissors Game (Basic Version)**"
      ]
    },
    {
      "cell_type": "code",
      "execution_count": null,
      "metadata": {
        "id": "HLQg5Omyv_LU"
      },
      "outputs": [],
      "source": [
        "import random\n",
        "\n",
        "def play_game():\n",
        "    print(\"Welcome to Rock, Paper, Scissors!\")\n",
        "    print(\"Rules: Rock beats Scissors, Scissors beats Paper, Paper beats Rock.\")\n",
        "\n",
        "    # List of possible moves\n",
        "    choices = ['rock', 'paper', 'scissors']\n",
        "\n",
        "    while True:\n",
        "        # Get user input\n",
        "        user_choice = input(\"\\nEnter your choice (rock, paper, scissors): \").strip().lower()\n",
        "\n",
        "        if user_choice not in choices:\n",
        "            print(\"Invalid choice. Please choose rock, paper, or scissors.\")\n",
        "            continue\n",
        "\n",
        "        # Generate computer's choice\n",
        "        computer_choice = random.choice(choices)\n",
        "        print(f\"The computer chose: {computer_choice}\")\n",
        "\n",
        "        # Determine the winner\n",
        "        if user_choice == computer_choice:\n",
        "            print(\"It's a tie!\")\n",
        "        elif (user_choice == 'rock' and computer_choice == 'scissors') or \\\n",
        "             (user_choice == 'scissors' and computer_choice == 'paper') or \\\n",
        "             (user_choice == 'paper' and computer_choice == 'rock'):\n",
        "             print(\"You win!\")\n",
        "        else:\n",
        "            print(\"You lose!\")\n",
        "\n",
        "        # Ask if the user wants to play again\n",
        "        play_again = input(\"Do you want to play again? (yes/no): \").strip().lower()\n",
        "        if play_again != 'yes':\n",
        "            print(\"Thanks for playing! Goodbye!\")\n",
        "            break\n",
        "\n",
        "# Run the game\n",
        "play_game()\n"
      ]
    },
    {
      "cell_type": "markdown",
      "metadata": {
        "id": "5GgLABZGGc8p"
      },
      "source": [
        "# **Rock, Paper, Scissors Game (Intermediate Version)**"
      ]
    },
    {
      "cell_type": "code",
      "execution_count": null,
      "metadata": {
        "id": "UkXNUh5ywG5k"
      },
      "outputs": [],
      "source": [
        "import random\n",
        "\n",
        "def play_game():\n",
        "    print(\"Welcome to Rock, Paper, Scissors!\")\n",
        "    print(\"Rules: Rock beats Scissors, Scissors beats Paper, Paper beats Rock.\")\n",
        "    print(\"Let's play!\")\n",
        "\n",
        "    # List of possible moves and their corresponding emojis\n",
        "    choices = {'rock': '🪨', 'paper': '📄', 'scissors': '✂️'}\n",
        "    user_score = 0\n",
        "    computer_score = 0\n",
        "\n",
        "    # Ask the user for the number of rounds\n",
        "    while True:\n",
        "        try:\n",
        "            total_rounds = int(input(\"\\nHow many rounds would you like to play? \"))\n",
        "            if total_rounds > 0:\n",
        "                break\n",
        "            else:\n",
        "                print(\"Please enter a positive number.\")\n",
        "        except ValueError:\n",
        "            print(\"Invalid input. Please enter a number.\")\n",
        "\n",
        "    # Game loop for the given number of rounds\n",
        "    for round_num in range(1, total_rounds + 1):\n",
        "        print(f\"\\nRound {round_num} of {total_rounds}\")\n",
        "        print(f\"Your Score: {user_score} | Computer Score: {computer_score}\")\n",
        "\n",
        "        # Get user choice\n",
        "        user_choice = input(\"Enter your choice (rock, paper, scissors): \").strip().lower()\n",
        "\n",
        "        if user_choice not in choices:\n",
        "            print(\"Invalid choice. Please choose rock, paper, or scissors.\")\n",
        "            continue\n",
        "\n",
        "        # Generate computer's choice\n",
        "        computer_choice = random.choice(list(choices.keys()))\n",
        "        print(f\"You chose: {choices[user_choice]}\")\n",
        "        print(f\"The computer chose: {choices[computer_choice]}\")\n",
        "\n",
        "        # Determine the winner of the round\n",
        "        if user_choice == computer_choice:\n",
        "            print(\"It's a tie!\")\n",
        "        elif (user_choice == 'rock' and computer_choice == 'scissors') or \\\n",
        "             (user_choice == 'scissors' and computer_choice == 'paper') or \\\n",
        "             (user_choice == 'paper' and computer_choice == 'rock'):\n",
        "            print(\"You win this round!\")\n",
        "            user_score += 1\n",
        "        else:\n",
        "            print(\"The computer wins this round!\")\n",
        "            computer_score += 1\n",
        "\n",
        "    # Display the final results\n",
        "    print(\"\\nGame Over!\")\n",
        "    print(f\"Final Score: You - {user_score} | Computer - {computer_score}\")\n",
        "\n",
        "    if user_score > computer_score:\n",
        "        print(\"🎉 Congratulations! You won the game! 🎉\")\n",
        "    elif user_score < computer_score:\n",
        "        print(\"The computer wins the game! Better luck next time!\")\n",
        "    else:\n",
        "        print(\"It's a tie! Great match!\")\n",
        "\n",
        "    print(\"Thanks for playing!\")\n",
        "\n",
        "# Run the enhanced game\n",
        "play_game()\n"
      ]
    }
  ],
  "metadata": {
    "colab": {
      "provenance": []
    },
    "kernelspec": {
      "display_name": "Python 3",
      "name": "python3"
    },
    "language_info": {
      "name": "python"
    }
  },
  "nbformat": 4,
  "nbformat_minor": 0
}
