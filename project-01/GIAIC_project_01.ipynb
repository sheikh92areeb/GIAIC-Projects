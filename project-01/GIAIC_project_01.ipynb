{
  "cells": [
    {
      "cell_type": "markdown",
      "metadata": {
        "id": "5ov_CVnVvahC"
      },
      "source": [
        "# **Mad Libs Game (Basic Version)**"
      ]
    },
    {
      "cell_type": "code",
      "execution_count": null,
      "metadata": {
        "colab": {
          "base_uri": "https://localhost:8080/"
        },
        "id": "x2GvjraRqUB3",
        "outputId": "1314d994-ac37-47bc-bab8-524b6b2df0b9"
      },
      "outputs": [],
      "source": [
        "def mad_libs():\n",
        "    # Welcome message\n",
        "    print(\"Welcome to the Mad Libs game!\")\n",
        "    print(\"Fill in the blanks to create your story.\\n\")\n",
        "\n",
        "    # Asking for user inputs\n",
        "    name = input(\"Enter a name: \")\n",
        "    place = input(\"Enter a place: \")\n",
        "    adjective = input(\"Enter an adjective: \")\n",
        "    noun = input(\"Enter a noun: \")\n",
        "    verb = input(\"Enter a verb: \")\n",
        "    animal = input(\"Enter an animal: \")\n",
        "\n",
        "    # Story template\n",
        "    story = (\n",
        "        f\"Once upon a time, {name} went to {place}. \"\n",
        "        f\"It was a {adjective} day, and they decided to bring a {noun} with them. \"\n",
        "        f\"While they were there, they saw a {animal} {verb}ing in the distance. \"\n",
        "        f\"Surprised, {name} exclaimed, 'What a day to remember!'\"\n",
        "    )\n",
        "\n",
        "    # Display the completed story\n",
        "    print(\"\\nYour Mad Libs story:\\n\")\n",
        "    print(story)\n",
        "\n",
        "# Run the Mad Libs function\n",
        "mad_libs()\n"
      ]
    },
    {
      "cell_type": "markdown",
      "metadata": {
        "id": "-gRMG908pB2Y"
      },
      "source": [
        "# **Mad Libs Game (Intermediate Version)**"
      ]
    },
    {
      "cell_type": "code",
      "execution_count": null,
      "metadata": {
        "colab": {
          "base_uri": "https://localhost:8080/"
        },
        "id": "j3gZvVyUrqiB",
        "outputId": "37b6f54a-fd14-418a-f7a3-c73bd0be42a0"
      },
      "outputs": [],
      "source": [
        "import random\n",
        "\n",
        "def mad_libs():\n",
        "    stories = [\n",
        "        \"Today, I went to the {place} and saw a {adjective} {noun} {verb}ing. It was so funny!\",\n",
        "        \"Once upon a time, {name} found a {adjective} {noun} while walking through {place}.\",\n",
        "        \"{name} decided to {verb} with a {adjective} {animal} at the {place}. What a day!\"\n",
        "    ]\n",
        "\n",
        "    # Randomly select a story template\n",
        "    story_template = random.choice(stories)\n",
        "\n",
        "    # Collect inputs\n",
        "    name = input(\"Enter a name: \")\n",
        "    place = input(\"Enter a place: \")\n",
        "    adjective = input(\"Enter an adjective: \")\n",
        "    noun = input(\"Enter a noun: \")\n",
        "    verb = input(\"Enter a verb: \")\n",
        "    animal = input(\"Enter an animal: \")\n",
        "\n",
        "    # Fill in the story template\n",
        "    story = story_template.format(\n",
        "        name=name, place=place, adjective=adjective,\n",
        "        noun=noun, verb=verb, animal=animal\n",
        "    )\n",
        "\n",
        "    print(\"\\nYour Mad Libs story:\\n\")\n",
        "    print(story)\n",
        "\n",
        "# Run the game\n",
        "mad_libs()\n"
      ]
    }
  ],
  "metadata": {
    "colab": {
      "provenance": []
    },
    "kernelspec": {
      "display_name": "Python 3",
      "name": "python3"
    },
    "language_info": {
      "name": "python"
    }
  },
  "nbformat": 4,
  "nbformat_minor": 0
}
