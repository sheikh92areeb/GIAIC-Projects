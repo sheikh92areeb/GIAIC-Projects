{
  "cells": [
    {
      "cell_type": "markdown",
      "metadata": {
        "id": "m_Z2us2Ilssk"
      },
      "source": [
        "# **Simple Website On Python With Streamlit**"
      ]
    },
    {
      "cell_type": "code",
      "execution_count": null,
      "metadata": {
        "id": "32MzuViw7rLX"
      },
      "outputs": [],
      "source": [
        "import streamlit as st\n",
        "\n",
        "# Set the title of the website\n",
        "st.title(\"My Streamlit Website\")\n",
        "\n",
        "# Add a sidebar menu\n",
        "st.sidebar.title(\"Menu\")\n",
        "options = st.sidebar.radio(\"Go to\", [\"Home\", \"About\", \"Contact\"])\n",
        "\n",
        "# 1. Home Page\n",
        "if options == \"Home\":\n",
        "    st.header(\"Welcome to My Website!\")\n",
        "    st.write(\"This is a simple website built with Streamlit.\")\n",
        "    st.image(\"images/home_image.jpg\", caption=\"Streamlit makes web development easy.\", use_column_width=True)\n",
        "\n",
        "# 2. About Page\n",
        "elif options == \"About\":\n",
        "    st.header(\"About Me\")\n",
        "    st.write(\"\"\"\n",
        "    Hi! I'm [Your Name]. I am passionate about Python, web development, and data science.\n",
        "    This website demonstrates how to use Streamlit for building web apps quickly.\n",
        "    \"\"\")\n",
        "    st.image(\"images/about_image.jpg\", caption=\"Streamlit: Python-Powered Web Apps\")\n",
        "\n",
        "# 3. Contact Page\n",
        "elif options == \"Contact\":\n",
        "    st.header(\"Contact Me\")\n",
        "    st.write(\"Feel free to reach out!\")\n",
        "    st.write(\"Email: example@example.com\")\n",
        "    st.write(\"GitHub: [My GitHub](https://github.com/)\")\n",
        "\n",
        "    # Add a contact form\n",
        "    name = st.text_input(\"Your Name\")\n",
        "    message = st.text_area(\"Your Message\")\n",
        "    if st.button(\"Send\"):\n",
        "        st.success(\"Thank you! Your message has been sent.\")\n"
      ]
    }
  ],
  "metadata": {
    "colab": {
      "provenance": []
    },
    "kernelspec": {
      "display_name": "Python 3",
      "name": "python3"
    },
    "language_info": {
      "name": "python"
    }
  },
  "nbformat": 4,
  "nbformat_minor": 0
}
