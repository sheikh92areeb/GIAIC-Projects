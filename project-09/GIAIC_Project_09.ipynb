{
  "nbformat": 4,
  "nbformat_minor": 0,
  "metadata": {
    "colab": {
      "provenance": []
    },
    "kernelspec": {
      "name": "python3",
      "display_name": "Python 3"
    },
    "language_info": {
      "name": "python"
    }
  },
  "cells": [
    {
      "cell_type": "markdown",
      "source": [
        "# **Simple Website On Python With Streamlit**"
      ],
      "metadata": {
        "id": "m_Z2us2Ilssk"
      }
    },
    {
      "cell_type": "code",
      "execution_count": null,
      "metadata": {
        "id": "32MzuViw7rLX"
      },
      "outputs": [],
      "source": [
        "import streamlit as st\n",
        "import pandas as pd\n",
        "import matplotlib.pyplot as plt\n",
        "\n",
        "# Set the title of the website\n",
        "st.title(\"My Streamlit Website\")\n",
        "\n",
        "# Add a sidebar menu\n",
        "st.sidebar.title(\"Menu\")\n",
        "options = st.sidebar.radio(\"Go to\", [\"Home\", \"About\", \"Data\", \"Contact\"])\n",
        "\n",
        "# 1. Home Page\n",
        "if options == \"Home\":\n",
        "    st.header(\"Welcome to My Website!\")\n",
        "    st.write(\"This is a simple website built with Streamlit.\")\n",
        "    st.image(\"images/home_image.jpg\", caption=\"Streamlit makes web development easy.\", use_column_width=True)\n",
        "\n",
        "# 2. About Page\n",
        "elif options == \"About\":\n",
        "    st.header(\"About Me\")\n",
        "    st.write(\"\"\"\n",
        "    Hi! I'm [Your Name]. I am passionate about Python, web development, and data science.\n",
        "    This website demonstrates how to use Streamlit for building web apps quickly.\n",
        "    \"\"\")\n",
        "    st.image(\"images/about_image.jpg\", caption=\"Streamlit: Python-Powered Web Apps\")\n",
        "\n",
        "# 3. Data Page\n",
        "elif options == \"Data\":\n",
        "    st.header(\"Data Visualization\")\n",
        "    st.write(\"Here, we visualize some sample data.\")\n",
        "\n",
        "    # Load sample data\n",
        "    data = pd.DataFrame({\n",
        "        \"Category\": [\"A\", \"B\", \"C\", \"D\"],\n",
        "        \"Values\": [23, 45, 56, 78]\n",
        "    })\n",
        "\n",
        "    # Show data as a table\n",
        "    st.table(data)\n",
        "\n",
        "    # Plot data as a bar chart\n",
        "    fig, ax = plt.subplots()\n",
        "    ax.bar(data[\"Category\"], data[\"Values\"], color=\"skyblue\")\n",
        "    st.pyplot(fig)\n",
        "\n",
        "# 4. Contact Page\n",
        "elif options == \"Contact\":\n",
        "    st.header(\"Contact Me\")\n",
        "    st.write(\"Feel free to reach out!\")\n",
        "    st.write(\"Email: example@example.com\")\n",
        "    st.write(\"GitHub: [My GitHub](https://github.com/)\")\n",
        "\n",
        "    # Add a contact form\n",
        "    name = st.text_input(\"Your Name\")\n",
        "    message = st.text_area(\"Your Message\")\n",
        "    if st.button(\"Send\"):\n",
        "        st.success(\"Thank you! Your message has been sent.\")\n"
      ]
    }
  ]
}